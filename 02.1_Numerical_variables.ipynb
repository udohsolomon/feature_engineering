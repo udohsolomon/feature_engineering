{
 "cells": [
  {
   "cell_type": "markdown",
   "metadata": {},
   "source": [
    "## What is a Variable?\n",
    "\n",
    "A variable is any characteristic, number, or quantity that can be measured or counted. The following are examples of variables:\n",
    "\n",
    "- Age (21, 35, 62, ...)\n",
    "- Gender (male, female)\n",
    "- Income (GBP 20000, GBP 35000, GBP 45000, ...)\n",
    "- House price (GBP 350000, GBP 570000, ...)\n",
    "- Country of birth (China, Russia, Costa Rica, ...)\n",
    "- Eye colour (brown, green, blue, ...)\n",
    "- Vehicle make (Ford, Volkswagen, ...)\n",
    "\n",
    "They are called 'variables' because the value they take may vary (and it usually does) in a population. \n",
    "\n",
    "Most variables in a data set can be classified into one of two major types:\n",
    "\n",
    "- **Numerical variables** \n",
    "- **Categorical variables**\n",
    "\n",
    "\n",
    "===================================================================================\n",
    "\n",
    "## Numerical variables\n",
    "\n",
    "The values of a numerical variable are numbers. They can be further classified into discrete and continuous variables.\n",
    "\n",
    "### Discrete numerical variable\n",
    "\n",
    "A variable which values are whole numbers (counts) is called discrete. For example, the number of items bought by a customer in a supermarket is discrete. The customer can buy 1, 25, or 50 items, but not 3.7 items. It is always a round number. The following are examples of discrete variables:\n",
    "\n",
    "- Number of active bank accounts of a borrower (1, 4, 7, ...)\n",
    "- Number of pets in the family\n",
    "- Number of children in the family\n",
    "\n",
    "\n",
    "### Continuous numerical variable\n",
    "\n",
    "A variable that may contain any value within some range is called continuous. For example, the total amount paid by a customer in a supermarket is continuous. The customer can pay, GBP 20.5, GBP 13.10, GBP 83.20 and so on.\n",
    "Other examples of continuous variables are:\n",
    "\n",
    "- House price (in principle, it can take any value) (GBP 350000, 57000, 1000000, ...)\n",
    "- Time spent surfing a website (3.4 seconds, 5.10 seconds, ...)\n",
    "- Total debt as percentage of total income in the last month (0.2, 0.001, 0, 0.75, ...)\n",
    "\n",
    "=============================================================================\n",
    "\n",
    "## Real Life example: Peer to peer lending (Finance)\n",
    "\n",
    "### Lending Club\n",
    "\n",
    "**Lending Club** is a peer-to-peer Lending company based in the US. They match people looking to invest money with people looking to borrow money. When investors invest their money through Lending Club, this money is passed onto borrowers, and when borrowers pay their loans back, the capital plus the interest passes on back to the investors. It is a win for everybody as they can get typically lower loan rates and higher investor returns.\n",
    "\n",
    "If you want to learn more about Lending Club follow this [link](https://www.lendingclub.com/).\n",
    "\n",
    "The Lending Club dataset contains complete loan data for all loans issued through 2007-2015, including the current loan status (Current, Late, Fully Paid, etc.) and latest payment information. Features include credit scores, number of finance inquiries, address including zip codes and state, and collections among others. Collections indicates whether the customer has missed one or more payments and the team is trying to recover their money.\n",
    "\n",
    "The file is a matrix of about 890 thousand observations and 75 variables. More detail on this dataset can be found in [Kaggle's website](https://www.kaggle.com/wendykan/lending-club-loan-data)\n",
    "\n",
    "Let's go ahead and have a look at the variables!"
   ]
  },
  {
   "cell_type": "markdown",
   "metadata": {},
   "source": [
    "====================================================================================================\n",
    "\n",
    "To download the Lending Club loan book from Kaggle go to [this website](https://www.kaggle.com/wendykan/lending-club-loan-data)\n",
    "\n",
    "Scroll down to the bottom of the page, and click on the link 'loan.csv', and then click the 'download' blue button towards the right of the screen, to download the dataset.\n",
    "Unzip it, and save it to a directory of your choice.\n",
    "\n",
    "**Note that you need to be logged in to Kaggle in order to download the datasets**.\n",
    "\n",
    "If you save it in the same directory from which you are running this notebook, then you can load it the same way I will load it below.\n",
    "\n",
    "===================================================================================================="
   ]
  },
  {
   "cell_type": "code",
   "execution_count": null,
   "metadata": {},
   "outputs": [],
   "source": [
    "import pandas as pd\n",
    "import numpy as np\n",
    "\n",
    "import matplotlib.pyplot as plt\n",
    "%matplotlib inline"
   ]
  },
  {
   "cell_type": "code",
   "execution_count": null,
   "metadata": {},
   "outputs": [],
   "source": [
    "# let's load the dataset with just a few columns and a few rows\n",
    "# to speed things up\n",
    "\n",
    "use_cols = [\n",
    "    'loan_amnt', 'int_rate', 'annual_inc', 'open_acc', 'loan_status',\n",
    "    'open_il_12m'\n",
    "]\n",
    "\n",
    "data = pd.read_csv(\n",
    "    'data/loan.csv', usecols=use_cols).sample(\n",
    "        10000, random_state=44)  # set a seed for reproducibility\n",
    "\n",
    "data.head()"
   ]
  },
  {
   "cell_type": "markdown",
   "metadata": {},
   "source": [
    "### Continuous Variables"
   ]
  },
  {
   "cell_type": "code",
   "execution_count": null,
   "metadata": {},
   "outputs": [],
   "source": [
    "# let's look at the values of the variable loan_amnt\n",
    "# this is the amount of money requested by the borrower\n",
    "# in US dollars\n",
    "\n",
    "data.loan_amnt.unique()"
   ]
  },
  {
   "cell_type": "code",
   "execution_count": null,
   "metadata": {},
   "outputs": [],
   "source": [
    "# let's make an histogram to get familiar with the\n",
    "# distribution of the variable\n",
    "\n",
    "fig = data.loan_amnt.hist(bins=50)\n",
    "fig.set_title('Loan Amount Requested')\n",
    "fig.set_xlabel('Loan Amount')\n",
    "fig.set_ylabel('Number of Loans')"
   ]
  },
  {
   "cell_type": "markdown",
   "metadata": {},
   "source": [
    "The values of the variable vary across the entire range of the variable. This is characteristic of continuous variables.\n",
    "\n",
    "The taller bars correspond to loan sizes of 10000, 15000, 20000, and 35000. There are more loans disbursed for those loan amount values. This indicates that most people tend to ask for these loan amounts. Likely, these particular loan amounts are pre-determined and offered as such in the Lending Club website.\n",
    "\n",
    "Less frequent loan values, like 23,000 or 33,000 could be requested by people who require a specific amount of money for a definite purpose."
   ]
  },
  {
   "cell_type": "code",
   "execution_count": null,
   "metadata": {
    "scrolled": true
   },
   "outputs": [],
   "source": [
    "# let's do the same exercise for the variable interest rate,\n",
    "# which is charged by lending club to the borrowers\n",
    "\n",
    "data.int_rate.unique()"
   ]
  },
  {
   "cell_type": "code",
   "execution_count": null,
   "metadata": {},
   "outputs": [],
   "source": [
    "# let's make an histogram to get familiar with the\n",
    "# distribution of the variable\n",
    "\n",
    "fig = data.int_rate.hist(bins=30)\n",
    "fig.set_title('Interest Rate')\n",
    "fig.set_xlabel('Interest Rate')\n",
    "fig.set_ylabel('Number of Loans')"
   ]
  },
  {
   "cell_type": "markdown",
   "metadata": {},
   "source": [
    "Again, we see that the values of the variable vary continuously across the variable range."
   ]
  },
  {
   "cell_type": "code",
   "execution_count": null,
   "metadata": {},
   "outputs": [],
   "source": [
    "# and now,let's explore the income declared by the customers,\n",
    "# that is, how much they earn yearly.\n",
    "\n",
    "fig = data.annual_inc.hist(bins=100)\n",
    "fig.set_xlim(0, 400000)\n",
    "fig.set_title(\"Customer's Annual Income\")\n",
    "fig.set_xlabel('Annual Income')\n",
    "fig.set_ylabel('Number of Customers')"
   ]
  },
  {
   "cell_type": "markdown",
   "metadata": {},
   "source": [
    "The majority of salaries are concentrated towards values in the range 30-70 k, with only a few customers earning higher salaries. Again, the values of the variable, vary continuosly across the variable range."
   ]
  },
  {
   "cell_type": "markdown",
   "metadata": {},
   "source": [
    "### Discrete Variables"
   ]
  },
  {
   "cell_type": "markdown",
   "metadata": {},
   "source": [
    "Let's explore the variable \"Number of open credit lines in the borrower's credit file\" (open_acc in the dataset). This is, the total number of credit items (for example, credit cards, car loans, mortgages, etc) that is known for that borrower. By definition it is a discrete variable, because a borrower can have 1 credit card, but not 3.5 credit cards."
   ]
  },
  {
   "cell_type": "code",
   "execution_count": null,
   "metadata": {},
   "outputs": [],
   "source": [
    "# let's inspect the values of the variable\n",
    "\n",
    "data.open_acc.dropna().unique()"
   ]
  },
  {
   "cell_type": "code",
   "execution_count": null,
   "metadata": {},
   "outputs": [],
   "source": [
    "# let's make an histogram to get familiar with the\n",
    "# distribution of the variable\n",
    "\n",
    "fig = data.open_acc.hist(bins=100)\n",
    "fig.set_xlim(0, 30)\n",
    "fig.set_title('Number of open accounts')\n",
    "fig.set_xlabel('Number of open accounts')\n",
    "fig.set_ylabel('Number of Customers')"
   ]
  },
  {
   "cell_type": "markdown",
   "metadata": {},
   "source": [
    "Histograms of discrete variables have this typical broken shape, as not all the values within the variable range are present in the variable. As I said, the customer can have 3 credit cards, but not 3,5 credit cards.\n",
    "\n",
    "Let's look at another example of a discrete variable in this dataset: **Number of installment accounts opened in past 12 months** (open_il_12m in the dataset). Installment accounts are those that at the moment of acquiring them, there is a set period and amount of repayments agreed between the lender and borrower. An example of this is a car loan, or a student loan. The borrower knows that they are going to pay a certain, fixed amount over for example 36 months."
   ]
  },
  {
   "cell_type": "code",
   "execution_count": null,
   "metadata": {},
   "outputs": [],
   "source": [
    "# let's inspect the variable values\n",
    "\n",
    "data.open_il_12m.unique()"
   ]
  },
  {
   "cell_type": "code",
   "execution_count": null,
   "metadata": {},
   "outputs": [],
   "source": [
    "# let's make an histogram to get familiar with the\n",
    "# distribution of the variable\n",
    "\n",
    "fig = data.open_il_12m.hist(bins=50)\n",
    "fig.set_title('Number of installment accounts opened in past 12 months')\n",
    "fig.set_xlabel('Number of installment accounts opened in past 12 months')\n",
    "fig.set_ylabel('Number of Borrowers')"
   ]
  },
  {
   "cell_type": "markdown",
   "metadata": {},
   "source": [
    "The majority of the borrowers have none or 1 installment account, with only a few borrowers having more than 2."
   ]
  },
  {
   "cell_type": "markdown",
   "metadata": {},
   "source": [
    "### A variation of discrete variables: the binary variable\n",
    "\n",
    "Binary variables, are discrete variables, that can take only 2 values, therefore binary.\n",
    "\n",
    "In the next cells I will create an additional variable, called defaulted, to capture the number of loans that have defaulted. A defaulted loan is a loan that a customer has failed to re-pay and the money is lost.\n",
    "\n",
    "The variable takes the values 0 where the loans are ok and being re-paid regularly, or 1, when the borrower has confirmed that will not be able to re-pay the borrowed amount."
   ]
  },
  {
   "cell_type": "code",
   "execution_count": null,
   "metadata": {},
   "outputs": [],
   "source": [
    "# let's inspect the values of the variable loan status\n",
    "\n",
    "data.loan_status.unique()"
   ]
  },
  {
   "cell_type": "code",
   "execution_count": null,
   "metadata": {},
   "outputs": [],
   "source": [
    "# let's create one additional variable called defaulted.\n",
    "# This variable indicates if the loan has defaulted, which means,\n",
    "# if the borrower failed to re-pay the loan, and the money\n",
    "# is deemed lost.\n",
    "\n",
    "data['defaulted'] = np.where(data.loan_status.isin(['Default']), 1, 0)\n",
    "data.defaulted.mean()"
   ]
  },
  {
   "cell_type": "code",
   "execution_count": null,
   "metadata": {},
   "outputs": [],
   "source": [
    "# the new variable takes the value of 0\n",
    "# if the loan is not defaulted\n",
    "\n",
    "data.head()"
   ]
  },
  {
   "cell_type": "code",
   "execution_count": null,
   "metadata": {},
   "outputs": [],
   "source": [
    "# the new variable takes the value 1 for loans that\n",
    "# are defaulted\n",
    "\n",
    "data[data.loan_status.isin(['Default'])].head()"
   ]
  },
  {
   "cell_type": "code",
   "execution_count": null,
   "metadata": {},
   "outputs": [],
   "source": [
    "# A binary variable, can take 2 values. For example,\n",
    "# the variable defaulted that we just created:\n",
    "# either the loan is defaulted (1) or not (0)\n",
    "\n",
    "data.defaulted.unique()"
   ]
  },
  {
   "cell_type": "code",
   "execution_count": null,
   "metadata": {},
   "outputs": [],
   "source": [
    "# let's make a histogram, although histograms for\n",
    "# binary variables do not make a lot of sense\n",
    "\n",
    "fig = data.defaulted.hist()\n",
    "fig.set_xlim(0, 2)\n",
    "fig.set_title('Defaulted accounts')\n",
    "fig.set_xlabel('Defaulted')\n",
    "fig.set_ylabel('Number of Loans')"
   ]
  },
  {
   "cell_type": "markdown",
   "metadata": {},
   "source": [
    "As we can see, the variable shows only 2 values, 0 and 1, and the majority of the loans are ok.\n",
    "\n",
    "**That is all for this demonstration. I hope you enjoyed the notebook, and see you in the next one.**"
   ]
  }
 ],
 "metadata": {
  "kernelspec": {
   "display_name": "Python 3",
   "language": "python",
   "name": "python3"
  },
  "language_info": {
   "codemirror_mode": {
    "name": "ipython",
    "version": 3
   },
   "file_extension": ".py",
   "mimetype": "text/x-python",
   "name": "python",
   "nbconvert_exporter": "python",
   "pygments_lexer": "ipython3",
   "version": "3.7.1"
  },
  "toc": {
   "nav_menu": {},
   "number_sections": true,
   "sideBar": true,
   "skip_h1_title": false,
   "toc_cell": false,
   "toc_position": {},
   "toc_section_display": "block",
   "toc_window_display": true
  }
 },
 "nbformat": 4,
 "nbformat_minor": 1
}
